{
 "cells": [
  {
   "cell_type": "markdown",
   "id": "5aa4cad2-a514-4f83-8cb5-36b7c24af602",
   "metadata": {},
   "source": [
    "# CDS523 Principle of Data Analytics and Programming\n",
    "## Programming Assignment 2"
   ]
  },
  {
   "cell_type": "markdown",
   "id": "8495012c-a756-4e3f-a5a7-37062ed89661",
   "metadata": {},
   "source": [
    "#### Student Name: Liu Yanru\n",
    "#### Student ID: 5571016"
   ]
  },
  {
   "cell_type": "markdown",
   "id": "828dd7a5-5617-43e7-a2ba-28133deb5aa2",
   "metadata": {},
   "source": [
    " "
   ]
  },
  {
   "cell_type": "markdown",
   "id": "f2180183-da5a-43b2-9899-01ab7b747a73",
   "metadata": {},
   "source": [
    "#### Assignment 2, Question 1"
   ]
  },
  {
   "cell_type": "markdown",
   "id": "4a7857d2-f306-4823-a1bb-c6bfe1304f9c",
   "metadata": {},
   "source": [
    "1. A palindrome is a number or text phrases that reads the same backwards as forwards. For\r",
    "example, each of the following five-digit integers is a palindrome: 12321, 55555, 45554, and 11611.\r",
    "Write a Python program that reads in a number or a text phrase as a string and determines whether it is\r",
    "a palindrome. You may assume that any input entered by the user would only contain lowercase\r",
    "alphabets from a-z and digits from 0-9."
   ]
  },
  {
   "cell_type": "code",
   "execution_count": 1,
   "id": "a9e4fe8d-01a5-4d25-b5fc-b99c16058dd2",
   "metadata": {},
   "outputs": [
    {
     "name": "stdin",
     "output_type": "stream",
     "text": [
      "Enter a number or text:  www23\n"
     ]
    },
    {
     "name": "stdout",
     "output_type": "stream",
     "text": [
      "'www23' is not a palindrome.\n"
     ]
    }
   ],
   "source": [
    "def is_palindrome(input_string):\n",
    "    # Remove any spaces and make the string lowercase for uniform comparison\n",
    "    clean_string = input_string.replace(\" \", \"\").lower()\n",
    "    # Check if the string reads the same backward\n",
    "    return clean_string == clean_string[::-1]\n",
    "\n",
    "# Get input from the user\n",
    "user_input = input(\"Enter a number or text: \")\n",
    "\n",
    "# Check if the input is a palindrome and display the result\n",
    "if is_palindrome(user_input):\n",
    "    print(f\"'{user_input}' is a palindrome.\")\n",
    "else:\n",
    "    print(f\"'{user_input}' is not a palindrome.\")\n"
   ]
  },
  {
   "cell_type": "markdown",
   "id": "6ae07ca6-a5a8-41e9-8075-e943599f3434",
   "metadata": {},
   "source": [
    "    "
   ]
  },
  {
   "cell_type": "markdown",
   "id": "c81586a9-2dec-41b1-9e84-6da1c8c5a489",
   "metadata": {},
   "source": [
    "    "
   ]
  },
  {
   "cell_type": "markdown",
   "id": "93650b00-0946-443a-ab39-95fb384e18a5",
   "metadata": {},
   "source": [
    "#### Assignment 2, Question 2"
   ]
  },
  {
   "cell_type": "markdown",
   "id": "9046c269-68fc-4c4d-a390-d0b600041b77",
   "metadata": {},
   "source": [
    "2. Given two strings a and b consisting of lowercase characters. The task is to check whether two\r",
    "given strings are an anagram of each other or not. An anagram of a string is another string that contains\r",
    "the same characters, only the order of characters can be different. For example, act and tac are an\r",
    "anagram of each other. You may assume that any input entered by the user would only contain\r",
    "lowercase alphabets from a-z."
   ]
  },
  {
   "cell_type": "code",
   "execution_count": 2,
   "id": "2c626b04-a388-4dea-b710-5ee01c20335a",
   "metadata": {},
   "outputs": [
    {
     "name": "stdin",
     "output_type": "stream",
     "text": [
      "Enter the first string:  wsdRdsw\n"
     ]
    },
    {
     "name": "stdout",
     "output_type": "stream",
     "text": [
      "Invalid input. Please enter a string with lowercase letters only.\n"
     ]
    },
    {
     "name": "stdin",
     "output_type": "stream",
     "text": [
      "Enter the first string:  wwww\n",
      "Enter the second string:  23456\n"
     ]
    },
    {
     "name": "stdout",
     "output_type": "stream",
     "text": [
      "Invalid input. Please enter a string with lowercase letters only.\n"
     ]
    },
    {
     "name": "stdin",
     "output_type": "stream",
     "text": [
      "Enter the second string:  ersdw\n"
     ]
    },
    {
     "name": "stdout",
     "output_type": "stream",
     "text": [
      "'wwww' and 'ersdw' are not anagrams.\n"
     ]
    }
   ],
   "source": [
    "def is_anagram(str1, str2):\n",
    "    # Check if the lengths of the strings are the same\n",
    "    if len(str1) != len(str2):\n",
    "        return False\n",
    "\n",
    "    # Compare sorted versions of both strings\n",
    "    return sorted(str1) == sorted(str2)\n",
    "\n",
    "def get_valid_input(prompt):\n",
    "    # Keep asking for input until the user provides a valid lowercase string\n",
    "    while True:\n",
    "        user_input = input(prompt)\n",
    "        # Check if the input contains only lowercase letters\n",
    "        if user_input.isalpha() and user_input.islower():\n",
    "            return user_input\n",
    "        else:\n",
    "            #assume that any input entered by the user would only contain lowercase alphabets from a-z\n",
    "            print(\"Invalid input. Please enter a string with lowercase letters only.\")\n",
    "\n",
    "def main():\n",
    "    # Get valid input from the user\n",
    "    str1 = get_valid_input(\"Enter the first string: \")\n",
    "    str2 = get_valid_input(\"Enter the second string: \")\n",
    "    \n",
    "    # Check if they are anagrams\n",
    "    if is_anagram(str1, str2):\n",
    "        print(f\"'{str1}' and '{str2}' are anagrams.\")\n",
    "    else:\n",
    "        print(f\"'{str1}' and '{str2}' are not anagrams.\")\n",
    "\n",
    "\n",
    "# Call the main function\n",
    "if __name__ == \"__main__\":\n",
    "    main()\n",
    "\n"
   ]
  },
  {
   "cell_type": "markdown",
   "id": "717355bc-9152-45d2-82ad-64e70aa74ca9",
   "metadata": {},
   "source": [
    " "
   ]
  },
  {
   "cell_type": "markdown",
   "id": "23cbab43-f08c-499b-bdef-a7898a1b47d1",
   "metadata": {},
   "source": [
    "                 "
   ]
  },
  {
   "cell_type": "markdown",
   "id": "1b9add06-8693-4716-be06-701172dec5f5",
   "metadata": {},
   "source": [
    " "
   ]
  },
  {
   "cell_type": "markdown",
   "id": "a500a034-0379-4272-826c-d1e3187bf7ef",
   "metadata": {},
   "source": [
    "#### Assignment 2, Question 3"
   ]
  },
  {
   "cell_type": "markdown",
   "id": "e2521134-8dcf-4e0d-8b0d-0d1377b0eb58",
   "metadata": {},
   "source": [
    "3. Write\r",
    "a program that uses a list of 1000 elements to determine and print the prime number between 1 and 999."
   ]
  },
  {
   "cell_type": "code",
   "execution_count": 3,
   "id": "612357c0-65ed-4d32-a810-4bde1ea01319",
   "metadata": {},
   "outputs": [
    {
     "name": "stdout",
     "output_type": "stream",
     "text": [
      "There are 168 prime numbers between 1 and 999:\n",
      "[2, 3, 5, 7, 11, 13, 17, 19, 23, 29, 31, 37, 41, 43, 47, 53, 59, 61, 67, 71, 73, 79, 83, 89, 97, 101, 103, 107, 109, 113, 127, 131, 137, 139, 149, 151, 157, 163, 167, 173, 179, 181, 191, 193, 197, 199, 211, 223, 227, 229, 233, 239, 241, 251, 257, 263, 269, 271, 277, 281, 283, 293, 307, 311, 313, 317, 331, 337, 347, 349, 353, 359, 367, 373, 379, 383, 389, 397, 401, 409, 419, 421, 431, 433, 439, 443, 449, 457, 461, 463, 467, 479, 487, 491, 499, 503, 509, 521, 523, 541, 547, 557, 563, 569, 571, 577, 587, 593, 599, 601, 607, 613, 617, 619, 631, 641, 643, 647, 653, 659, 661, 673, 677, 683, 691, 701, 709, 719, 727, 733, 739, 743, 751, 757, 761, 769, 773, 787, 797, 809, 811, 821, 823, 827, 829, 839, 853, 857, 859, 863, 877, 881, 883, 887, 907, 911, 919, 929, 937, 941, 947, 953, 967, 971, 977, 983, 991, 997]\n"
     ]
    }
   ],
   "source": [
    "def sieve_of_eratosthenes(n):\n",
    "    # Initialize a list of size n+1 to represent numbers 0 to n, all set to 1 (potential primes)\n",
    "    primes = [1] * (n + 1)\n",
    "\n",
    "    # Mark 0 and 1 as non-prime\n",
    "    primes[0] = primes[1] = 0\n",
    "\n",
    "    # Start from 2, sieve through the numbers\n",
    "    for i in range(2, int(n**0.5) + 1):\n",
    "        if primes[i] == 1:  # If i is prime\n",
    "            # Mark multiples of i as non-prime\n",
    "            for j in range(i * i, n + 1, i):\n",
    "                primes[j] = 0\n",
    "\n",
    "    # Collect prime numbers\n",
    "    prime_numbers = []\n",
    "    for i in range(2, n + 1):\n",
    "        if primes[i] == 1:\n",
    "            prime_numbers.append(i)\n",
    "\n",
    "    # Print the total number of primes and the prime numbers themselves\n",
    "    print(f\"There are {len(prime_numbers)} prime numbers between 1 and {n}:\")\n",
    "    print(prime_numbers)\n",
    "\n",
    "# Call the function to print prime numbers between 1 and 999\n",
    "sieve_of_eratosthenes(999)\n"
   ]
  },
  {
   "cell_type": "markdown",
   "id": "a97fadc3-7452-4e0c-83d0-f0c41c9ad28a",
   "metadata": {},
   "source": [
    " "
   ]
  },
  {
   "cell_type": "markdown",
   "id": "67ade26e-4ffc-4611-909d-2aa957e929ec",
   "metadata": {},
   "source": [
    " "
   ]
  }
 ],
 "metadata": {
  "kernelspec": {
   "display_name": "Python 3 (ipykernel)",
   "language": "python",
   "name": "python3"
  },
  "language_info": {
   "codemirror_mode": {
    "name": "ipython",
    "version": 3
   },
   "file_extension": ".py",
   "mimetype": "text/x-python",
   "name": "python",
   "nbconvert_exporter": "python",
   "pygments_lexer": "ipython3",
   "version": "3.12.4"
  }
 },
 "nbformat": 4,
 "nbformat_minor": 5
}
